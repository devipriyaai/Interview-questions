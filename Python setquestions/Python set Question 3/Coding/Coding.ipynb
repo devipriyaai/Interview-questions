{
 "cells": [
  {
   "cell_type": "markdown",
   "id": "f7cdce8a-0cd4-4a60-b58c-4ba343f30e8d",
   "metadata": {},
   "source": [
    "#1. Square of Numbers from 1 to 5\n",
    "Output:\n",
    "1 4 9 16 25"
   ]
  },
  {
   "cell_type": "code",
   "execution_count": 1,
   "id": "5af6b95f-6171-4a28-b45f-4bef61556acd",
   "metadata": {},
   "outputs": [
    {
     "name": "stdout",
     "output_type": "stream",
     "text": [
      "1 4 9 16 25 "
     ]
    }
   ],
   "source": [
    "for i in range(1,6):\n",
    "    print(i**2,end=\" \")"
   ]
  },
  {
   "cell_type": "markdown",
   "id": "5aff31ea-9f92-49e4-9f53-37f8e19f0559",
   "metadata": {},
   "source": [
    "#2.Swap Two Variables Without Using a Temporary Variable\n",
    "Question: Write a Python program to swap two variables a = 5 and b = 10 without using a temporary variable."
   ]
  },
  {
   "cell_type": "code",
   "execution_count": 4,
   "id": "91483ffe-75ab-4cc9-9f91-639a80f7ce39",
   "metadata": {},
   "outputs": [
    {
     "name": "stdin",
     "output_type": "stream",
     "text": [
      "Enter a value a: 5\n",
      "Enter a value b: 10\n"
     ]
    },
    {
     "name": "stdout",
     "output_type": "stream",
     "text": [
      "after swap\n",
      "a:10\n",
      "b:5\n"
     ]
    }
   ],
   "source": [
    "a = int(input(\"Enter a value a:\"))\n",
    "b = int(input(\"Enter a value b:\"))\n",
    "a = a+b\n",
    "b = a-b\n",
    "a = a-b\n",
    "print(\"after swap\")\n",
    "print(f\"a:{a}\")\n",
    "print(f\"b:{b}\")        "
   ]
  },
  {
   "cell_type": "markdown",
   "id": "6c8d020c-a4e1-4f26-9671-5ae8921f0714",
   "metadata": {},
   "source": [
    " #3.Find Even and Odd Numbers in a List\n",
    "Question: Write a Python program to separate even and odd numbers from the list [12, 17, 19, 24, 35, 40, 56]."
   ]
  },
  {
   "cell_type": "code",
   "execution_count": 7,
   "id": "659e5641-9609-439f-a318-45ff1fd357c6",
   "metadata": {},
   "outputs": [
    {
     "name": "stdout",
     "output_type": "stream",
     "text": [
      "Even numbers: [12, 24, 40, 56]\n",
      "Odd numbers: [17, 19, 35]\n"
     ]
    }
   ],
   "source": [
    "numbers = [12,17,19,24,35,40,56]\n",
    "even = []\n",
    "odd = []\n",
    "for num in numbers:\n",
    "    if num%2==0:\n",
    "        even.append(num)\n",
    "    else:\n",
    "        odd.append(num) \n",
    "print (\"Even numbers:\",even)\n",
    "print(\"Odd numbers:\",odd)"
   ]
  },
  {
   "cell_type": "markdown",
   "id": "7fe2a1d0-a04c-4e31-b518-b70c8097b931",
   "metadata": {},
   "source": [
    "#4. Reverse a Number\n",
    "Question: Write a Python program to reverse the number 12345."
   ]
  },
  {
   "cell_type": "code",
   "execution_count": 10,
   "id": "52f2ef23-b80f-453f-8de2-0d9ea767bfeb",
   "metadata": {},
   "outputs": [
    {
     "name": "stdout",
     "output_type": "stream",
     "text": [
      "54321\n"
     ]
    }
   ],
   "source": [
    "num = 12345\n",
    "reverse_n =int(str(num)[::-1])\n",
    "print(reverse_n)"
   ]
  },
  {
   "cell_type": "markdown",
   "id": "d34f82af-d8e6-47d0-890f-155fa4a959fe",
   "metadata": {},
   "source": [
    "#5. Find the Second Largest Number in a List\n",
    "Question: Write a Python program to find the second largest number in the list [12, 45, 98, 34, 23]."
   ]
  },
  {
   "cell_type": "code",
   "execution_count": 13,
   "id": "42b24798-8840-4578-a350-968a8ef8d05f",
   "metadata": {},
   "outputs": [
    {
     "name": "stdout",
     "output_type": "stream",
     "text": [
      "The second largest number: 45\n"
     ]
    }
   ],
   "source": [
    "numbers = [12, 45, 98, 34, 23]\n",
    "numbers.sort()\n",
    "second_largest = numbers[-2]\n",
    "print(\"The second largest number:\",second_largest)"
   ]
  },
  {
   "cell_type": "code",
   "execution_count": null,
   "id": "5486dc78-818d-4cc0-95b6-edb75db17c83",
   "metadata": {},
   "outputs": [],
   "source": []
  }
 ],
 "metadata": {
  "kernelspec": {
   "display_name": "Python 3 (ipykernel)",
   "language": "python",
   "name": "python3"
  },
  "language_info": {
   "codemirror_mode": {
    "name": "ipython",
    "version": 3
   },
   "file_extension": ".py",
   "mimetype": "text/x-python",
   "name": "python",
   "nbconvert_exporter": "python",
   "pygments_lexer": "ipython3",
   "version": "3.12.7"
  }
 },
 "nbformat": 4,
 "nbformat_minor": 5
}
