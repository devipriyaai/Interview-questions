{
 "cells": [
  {
   "cell_type": "markdown",
   "id": "61f812c0-6246-47ec-bd06-8136e101c62e",
   "metadata": {},
   "source": [
    "1.Write a Python program to find the reverse of a string. Expected Output (for input \"hello\"):\n",
    "olleh"
   ]
  },
  {
   "cell_type": "code",
   "execution_count": 7,
   "id": "02ff59ee-d81b-4cba-b07b-978b78bc7906",
   "metadata": {},
   "outputs": [
    {
     "name": "stdin",
     "output_type": "stream",
     "text": [
      "Enter a String hello\n"
     ]
    },
    {
     "name": "stdout",
     "output_type": "stream",
     "text": [
      "The reverse of string: olleh\n"
     ]
    }
   ],
   "source": [
    "string = input(\"Enter a String\")\n",
    "reversed_string = string[::-1]\n",
    "print(\"The reverse of string:\",reversed_string)"
   ]
  },
  {
   "cell_type": "markdown",
   "id": "fde969b8-d568-4abd-bfd0-c920d8224f54",
   "metadata": {},
   "source": [
    "2.Write a Python program to generate the Fibonacci sequence up to 10 terms.\n",
    "Expected Output:\n",
    "0 1 1 2 3 5 8 13 21 34"
   ]
  },
  {
   "cell_type": "code",
   "execution_count": 11,
   "id": "d58a8dcd-ef4b-4741-8003-e3e788b14816",
   "metadata": {},
   "outputs": [
    {
     "name": "stdout",
     "output_type": "stream",
     "text": [
      "Fibonacci sequence up to 10 terms:\n",
      "0 1 1 2 3 5 8 13 21 34 "
     ]
    }
   ],
   "source": [
    "# Number of terms\n",
    "n_terms = 10\n",
    "\n",
    "# First two terms\n",
    "a, b = 0, 1\n",
    "\n",
    "# Display Fibonacci sequence\n",
    "print(\"Fibonacci sequence up to 10 terms:\")\n",
    "for _ in range(n_terms):\n",
    "    print(a, end=\" \")\n",
    "    a, b = b, a + b"
   ]
  },
  {
   "cell_type": "markdown",
   "id": "560386f9-4850-423f-a3e7-84fb910fa312",
   "metadata": {},
   "source": [
    "3.Write a Python function to check if a given string is a palindrome.\n",
    "Expected Output (for input \"madam\"):\n",
    "madam is a palindrome"
   ]
  },
  {
   "cell_type": "code",
   "execution_count": 14,
   "id": "3541f942-0641-4c3e-8ef1-8ab9b7ac8b22",
   "metadata": {},
   "outputs": [
    {
     "name": "stdin",
     "output_type": "stream",
     "text": [
      "Enter a string:  madam\n"
     ]
    },
    {
     "name": "stdout",
     "output_type": "stream",
     "text": [
      "madam is a palindrome\n"
     ]
    }
   ],
   "source": [
    "def is_palindrome(s):\n",
    "    # Reverse the string using slicing\n",
    "    reversed_s = s[::-1]\n",
    "\n",
    "    # Check if the original and reversed strings are the same\n",
    "    if s == reversed_s:\n",
    "        print(f\"{s} is a palindrome\")\n",
    "    else:\n",
    "        print(f\"{s} is not a palindrome\")\n",
    "\n",
    "# Example usage\n",
    "input_str = input(\"Enter a string: \")\n",
    "is_palindrome(input_str)"
   ]
  },
  {
   "cell_type": "markdown",
   "id": "3b7810b4-0d97-488a-bf44-bf9f7d8fec3b",
   "metadata": {},
   "source": [
    "4.Write a Python program to count the number of vowels in a given string. \n",
    "Expected Output (for input \"education\"):\n",
    "Number of vowels: 5"
   ]
  },
  {
   "cell_type": "code",
   "execution_count": 17,
   "id": "62bc7101-16ed-4644-a3d7-3974d8e51cdc",
   "metadata": {},
   "outputs": [
    {
     "name": "stdin",
     "output_type": "stream",
     "text": [
      "Enter a string:  education\n"
     ]
    },
    {
     "name": "stdout",
     "output_type": "stream",
     "text": [
      "Number of vowels: 5\n"
     ]
    }
   ],
   "source": [
    "# Input from the user\n",
    "input_str = input(\"Enter a string: \")\n",
    "\n",
    "# Define the vowels\n",
    "vowels = \"aeiouAEIOU\"\n",
    "\n",
    "# Initialize a counter\n",
    "vowel_count = 0\n",
    "\n",
    "# Loop through each character in the string\n",
    "for char in input_str:\n",
    "    if char in vowels:\n",
    "        vowel_count += 1\n",
    "\n",
    "# Print the result\n",
    "print(\"Number of vowels:\", vowel_count)"
   ]
  },
  {
   "cell_type": "markdown",
   "id": "c30b9dcf-008d-4fb9-b867-6fb3527cfc51",
   "metadata": {},
   "source": [
    "5.Write a Python program to remove duplicates from a list.\n",
    "Expected Output (for input [1, 2, 2, 3, 4, 4, 5]):\n",
    "\n",
    " [1, 2, 3, 4, 5]"
   ]
  },
  {
   "cell_type": "code",
   "execution_count": 23,
   "id": "b9e39e95-d3b1-46e6-aeb1-eaa806bfc033",
   "metadata": {},
   "outputs": [
    {
     "name": "stdout",
     "output_type": "stream",
     "text": [
      "List after removing duplicates: [1, 2, 3, 4, 5]\n"
     ]
    }
   ],
   "source": [
    "# Input list\n",
    "input_list = [1, 2, 2, 3, 4, 4, 5]\n",
    "\n",
    "# Remove duplicates using set, then convert back to list\n",
    "# Use sorted() if you want to keep the result in order\n",
    "unique_list = sorted(set(input_list))\n",
    "\n",
    "# Print the result\n",
    "print(\"List after removing duplicates:\", unique_list)"
   ]
  },
  {
   "cell_type": "code",
   "execution_count": null,
   "id": "01bcbd05-f9af-4f1b-ac2c-2c483e984245",
   "metadata": {},
   "outputs": [],
   "source": []
  }
 ],
 "metadata": {
  "kernelspec": {
   "display_name": "Python [conda env:base] *",
   "language": "python",
   "name": "conda-base-py"
  },
  "language_info": {
   "codemirror_mode": {
    "name": "ipython",
    "version": 3
   },
   "file_extension": ".py",
   "mimetype": "text/x-python",
   "name": "python",
   "nbconvert_exporter": "python",
   "pygments_lexer": "ipython3",
   "version": "3.12.7"
  }
 },
 "nbformat": 4,
 "nbformat_minor": 5
}
