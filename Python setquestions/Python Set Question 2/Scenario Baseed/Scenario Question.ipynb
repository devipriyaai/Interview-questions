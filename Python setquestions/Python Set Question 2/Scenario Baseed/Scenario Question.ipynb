{
 "cells": [
  {
   "cell_type": "raw",
   "id": "e01f33b9-5cd0-4879-a5f2-030174f4da20",
   "metadata": {},
   "source": [
    "1.You are developing a banking application that categorizes transactions based on the amount entered.\n",
    " Write logic to determine whether the amount is positive, negative, or zero."
   ]
  },
  {
   "cell_type": "code",
   "execution_count": 1,
   "id": "b0679de0-8825-450a-bcab-c8708c8300fb",
   "metadata": {},
   "outputs": [
    {
     "name": "stdin",
     "output_type": "stream",
     "text": [
      "Enter the transaction amount:  500\n"
     ]
    },
    {
     "name": "stdout",
     "output_type": "stream",
     "text": [
      "Transaction is a credit (positive amount).\n"
     ]
    }
   ],
   "source": [
    "# Input: transaction amount\n",
    "amount = float(input(\"Enter the transaction amount: \"))\n",
    "\n",
    "# Logic to categorize the transaction\n",
    "if amount > 0:\n",
    "    print(\"Transaction is a credit (positive amount).\")\n",
    "elif amount < 0:\n",
    "    print(\"Transaction is a debit (negative amount).\")\n",
    "else:\n",
    "    print(\"Transaction amount is zero (no change).\")"
   ]
  },
  {
   "cell_type": "markdown",
   "id": "d7d93e11-9c19-47a5-950d-f55512de1d99",
   "metadata": {},
   "source": [
    "2.A digital locker requires users to enter a numerical passcode. As part of a security feature, the system checks the sum of the digits of the passcode.\n",
    " Write logic to compute the sum of the digits of a given number.\n"
   ]
  },
  {
   "cell_type": "code",
   "execution_count": 3,
   "id": "5199f295-d747-4769-a458-a0525961fdda",
   "metadata": {},
   "outputs": [
    {
     "name": "stdin",
     "output_type": "stream",
     "text": [
      "Enter your numerical passcode:  2345\n"
     ]
    },
    {
     "name": "stdout",
     "output_type": "stream",
     "text": [
      "Sum of digits: 14\n"
     ]
    }
   ],
   "source": [
    "# Input: passcode\n",
    "passcode = input(\"Enter your numerical passcode: \")\n",
    "\n",
    "# Ensure the input is numeric\n",
    "if passcode.isdigit():\n",
    "    # Compute the sum of the digits\n",
    "    digit_sum = sum(int(digit) for digit in passcode)\n",
    "    print(f\"Sum of digits: {digit_sum}\")\n",
    "else:\n",
    "    print(\"Invalid passcode. Please enter only numeric digits.\")"
   ]
  },
  {
   "cell_type": "markdown",
   "id": "03769455-b32b-472f-9218-a8cae6b9bb07",
   "metadata": {},
   "source": [
    "3.A mobile payment app uses a simple checksum validation where reversing a transaction ID helps detect fraud.\n",
    " Write logic to take a number and return its reverse\n"
   ]
  },
  {
   "cell_type": "code",
   "execution_count": 20,
   "id": "80254789-ec85-4750-92a9-051845d4eda7",
   "metadata": {},
   "outputs": [
    {
     "name": "stdout",
     "output_type": "stream",
     "text": [
      "The transaction_ID: 654321\n"
     ]
    }
   ],
   "source": [
    "def reverse_num(n):\n",
    "    reversed_num = int(str(n)[::-1])\n",
    "    return reversed_num\n",
    "transaction_ID = 123456\n",
    "reversed_id = reverse_num(transaction_ID)\n",
    "print(\"The transaction_ID:\",reversed_id)"
   ]
  },
  {
   "cell_type": "markdown",
   "id": "1bc4427e-33e9-4930-8bec-d3fcdf842672",
   "metadata": {},
   "source": [
    "4.In a secure login system, certain features are enabled only for users with prime-numbered user IDs.\n",
    " Write logic to check if a given number is prime."
   ]
  },
  {
   "cell_type": "code",
   "execution_count": 23,
   "id": "de08896e-991d-4caf-be4b-85196904c7cd",
   "metadata": {},
   "outputs": [],
   "source": [
    "def is_prime(n):\n",
    "    if n<=1:\n",
    "        return False # 0 and 1 are not prime\n",
    "    if n==2:\n",
    "        return True # 2 is only even prime\n",
    "    if n %2 == 0:\n",
    "        return False # eliminate other even numbers\n",
    "# Check the factors from 3 to sqrt(n)\n",
    "    for i in range (3,int(n**0.5)+1,2):\n",
    "        if n % i == 0:\n",
    "            return False\n",
    "    return True"
   ]
  },
  {
   "cell_type": "code",
   "execution_count": 31,
   "id": "30a15670-09aa-439b-bc37-662389d304ba",
   "metadata": {},
   "outputs": [
    {
     "name": "stdout",
     "output_type": "stream",
     "text": [
      "Prime ID: Secure features enabled\n"
     ]
    }
   ],
   "source": [
    "user_id = 23\n",
    "if is_prime(user_id):\n",
    "    print(\"Prime ID: Secure features enabled\")\n",
    "else:\n",
    "    print(\"Not_prime ID: Secure features disenabled\")\n",
    "    "
   ]
  },
  {
   "cell_type": "markdown",
   "id": "3f8c1fa3-d8b8-46c1-9524-f6980e040314",
   "metadata": {},
   "source": [
    "5.A scientist is working on permutations and needs to calculate the factorial of numbers frequently.\n",
    " Write logic to find the factorial of a given number using recursion."
   ]
  },
  {
   "cell_type": "code",
   "execution_count": 38,
   "id": "aba62736-ca61-4d0f-8953-8245fe112a0b",
   "metadata": {},
   "outputs": [
    {
     "name": "stdout",
     "output_type": "stream",
     "text": [
      "factorial of 5 is:120\n"
     ]
    }
   ],
   "source": [
    "def factorial(n):\n",
    "    if n==0 or  n == 1:\n",
    "        return 1 # Base Case\n",
    "    else:\n",
    "        return n * factorial(n-1) # Recursive Case\n",
    "\n",
    "num = 5\n",
    "result = factorial(num)\n",
    "print(f\"factorial of {num} is:{result}\")"
   ]
  },
  {
   "cell_type": "markdown",
   "id": "81d53b21-6761-45d0-a446-1105cb068184",
   "metadata": {},
   "source": [
    "6.A unique lottery system assigns ticket numbers where only Armstrong numbers win the jackpot.\n",
    " Write logic to check whether a given number is an Armstrong number."
   ]
  },
  {
   "cell_type": "code",
   "execution_count": 55,
   "id": "768192d8-5fdf-4bc2-8d93-3349531f938f",
   "metadata": {},
   "outputs": [
    {
     "name": "stdout",
     "output_type": "stream",
     "text": [
      "Congratualation! This is a Armstrong number.Jackpot winner!\n"
     ]
    }
   ],
   "source": [
    "def is_armstrong(n):\n",
    "    num_str = str(n)\n",
    "    num_digits = len(str(n))\n",
    "    total = sum(int(digit)** num_digits for digit in num_str)\n",
    "    return total== n\n",
    "ticket_num = 153\n",
    "if is_armstrong(ticket_num):\n",
    "    print(\"Congratualation! This is a Armstrong number.Jackpot winner!\")\n",
    "else:\n",
    "    print(\"Sorry,not an Amstrong number . Better luck next time.\")\n",
    "    "
   ]
  },
  {
   "cell_type": "markdown",
   "id": "302f437f-510c-4cda-a399-0590e51f6437",
   "metadata": {},
   "source": [
    "7.A password manager needs to strengthen weak passwords by swapping the first and last characters of user-generated passwords.\n",
    " Write logic to perform this operation on a given string."
   ]
  },
  {
   "cell_type": "code",
   "execution_count": 60,
   "id": "2b55afe4-ed90-4fca-b12a-2a5f9647bcab",
   "metadata": {},
   "outputs": [
    {
     "name": "stdout",
     "output_type": "stream",
     "text": [
      "Strengthend Password: dalenteT\n"
     ]
    }
   ],
   "source": [
    "def swap_first_last(password):\n",
    "    if len(password)<2:\n",
    "        return password # 0 or 1 no swap need\n",
    "    return password[-1]+password[1:-1]+password[0]\n",
    "\n",
    "user_password = \"Talented\"\n",
    "strong_password = swap_first_last(user_password)\n",
    "print(\"Strengthend Password:\",strong_password )"
   ]
  },
  {
   "cell_type": "markdown",
   "id": "58052f76-e408-463a-8b69-a14371bce9d6",
   "metadata": {},
   "source": [
    "8. A low-level networking application requires decimal numbers to be converted into binary format before transmission.\n",
    " Write logic to convert a given decimal number into its binary equivalent."
   ]
  },
  {
   "cell_type": "code",
   "execution_count": 74,
   "id": "21fa8e2a-2615-48e4-bc4c-6673a7fb7dba",
   "metadata": {},
   "outputs": [
    {
     "name": "stdout",
     "output_type": "stream",
     "text": [
      "Binary of 54:110110\n"
     ]
    }
   ],
   "source": [
    "def decimal_to_binary(n):\n",
    "    return bin(n)[2:] # Removes '0b' prefix\n",
    "decimal_numer = 54\n",
    "binary_equivalent = decimal_to_binary(decimal_num)\n",
    "print (f\"Binary of {decimal_numer}:{binary_equivalent}\")"
   ]
  },
  {
   "cell_type": "markdown",
   "id": "8d8b0233-8307-4594-bbcd-4d662df48fa6",
   "metadata": {},
   "source": [
    "9.A text-processing tool helps summarize articles by identifying the most significant words.\n",
    " Write logic to find the longest word in a sentence"
   ]
  },
  {
   "cell_type": "code",
   "execution_count": 83,
   "id": "c075f222-5194-435f-a3d0-24b461e659de",
   "metadata": {},
   "outputs": [
    {
     "name": "stdout",
     "output_type": "stream",
     "text": [
      "The longest word is: efficiently\n"
     ]
    }
   ],
   "source": [
    "def find_longest_word(sentence):\n",
    "    words = sentence.split()\n",
    "    longest = max(words,key=len)\n",
    "    return longest\n",
    "text = \"The text processing tool helps summarize articles efficiently\"\n",
    "longest_word = find_longest_word(text)\n",
    "print(\"The longest word is:\",longest_word)"
   ]
  },
  {
   "cell_type": "markdown",
   "id": "41deeba1-6984-4626-876f-8abfca065989",
   "metadata": {},
   "source": [
    "10.A plagiarism detection tool compares words from different documents and checks if they are anagrams (same characters but different order).\n",
    " Write logic to check whether two given strings are anagrams."
   ]
  },
  {
   "cell_type": "code",
   "execution_count": 88,
   "id": "229b9cfa-c8f3-4421-ab3b-63bae48a3dba",
   "metadata": {},
   "outputs": [
    {
     "name": "stdout",
     "output_type": "stream",
     "text": [
      "The word are anagrams.\n"
     ]
    }
   ],
   "source": [
    "def are_anagrams(str1,str2):\n",
    "    str1 = str1.replace(\" \",\"\").lower()  # Remove spaces and convert to lowercase\n",
    "    str2 = str2.replace(\" \",\"\").lower()\n",
    "    return sorted(str1)==sorted(str2)    # Sort characters and compare\n",
    "\n",
    "word1 = \"Listen\"\n",
    "word2 = \"Silent\"\n",
    "if are_anagrams(word1,word2):\n",
    "    print(\"The word are anagrams.\")\n",
    "else:\n",
    "    print(\"The word are not anagrams.\")"
   ]
  },
  {
   "cell_type": "code",
   "execution_count": null,
   "id": "bb38c50c-280b-4971-aef0-07f1ff63042a",
   "metadata": {},
   "outputs": [],
   "source": []
  }
 ],
 "metadata": {
  "kernelspec": {
   "display_name": "Python [conda env:base] *",
   "language": "python",
   "name": "conda-base-py"
  },
  "language_info": {
   "codemirror_mode": {
    "name": "ipython",
    "version": 3
   },
   "file_extension": ".py",
   "mimetype": "text/x-python",
   "name": "python",
   "nbconvert_exporter": "python",
   "pygments_lexer": "ipython3",
   "version": "3.12.7"
  }
 },
 "nbformat": 4,
 "nbformat_minor": 5
}
