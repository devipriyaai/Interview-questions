{
 "cells": [
  {
   "cell_type": "markdown",
   "id": "0976844c-199a-4437-a08c-f1ba557f0157",
   "metadata": {},
   "source": [
    "1.Write a Python program that prints numbers from 1 to 5.\n",
    "Expected Output:\n",
    "1 2 3 4 5"
   ]
  },
  {
   "cell_type": "code",
   "execution_count": 2,
   "id": "338ec597-26cf-4e9b-ab46-ea223eb6cf95",
   "metadata": {},
   "outputs": [
    {
     "name": "stdout",
     "output_type": "stream",
     "text": [
      "1 2 3 4 5 "
     ]
    }
   ],
   "source": [
    "for i in range(1, 6):\n",
    "    print(i, end=' ')"
   ]
  },
  {
   "cell_type": "markdown",
   "id": "6b5fa248-b4ba-4b3d-9f7f-1b87e8fde3ca",
   "metadata": {},
   "source": [
    "2.Write a Python program to print the first 5 even numbers. Expected Output:\n",
    "2 4 6 8 10"
   ]
  },
  {
   "cell_type": "code",
   "execution_count": 5,
   "id": "907d5faa-5b4a-4a10-a615-afeb68511e2f",
   "metadata": {},
   "outputs": [
    {
     "name": "stdout",
     "output_type": "stream",
     "text": [
      "2 4 6 8 10 "
     ]
    }
   ],
   "source": [
    "for i in range(2, 11, 2):\n",
    "    print(i, end=' ')"
   ]
  },
  {
   "cell_type": "markdown",
   "id": "f82dff38-3bfe-4303-94ae-deff40928f9f",
   "metadata": {},
   "source": [
    "3.Write a Python program to print the sum of numbers from 1 to 10. \n",
    "Expected Output:55"
   ]
  },
  {
   "cell_type": "code",
   "execution_count": 8,
   "id": "9e557f3a-d783-490c-841b-e6df6f90b9b7",
   "metadata": {},
   "outputs": [
    {
     "name": "stdout",
     "output_type": "stream",
     "text": [
      "55\n"
     ]
    }
   ],
   "source": [
    "total = 0\n",
    "for i in range(1, 11):\n",
    "    total += i\n",
    "print(total)"
   ]
  },
  {
   "cell_type": "markdown",
   "id": "9a0ac6e6-a5b4-40b9-8654-a121aa20cfa8",
   "metadata": {},
   "source": [
    "4.Write a Python function to find the factorial of 5. Expected Output:\n",
    "120"
   ]
  },
  {
   "cell_type": "code",
   "execution_count": 13,
   "id": "b03dc31a-49b0-4579-9dad-6529eb72415f",
   "metadata": {},
   "outputs": [
    {
     "name": "stdout",
     "output_type": "stream",
     "text": [
      "120\n"
     ]
    }
   ],
   "source": [
    "def factorial(n):\n",
    "    result = 1\n",
    "    for i in range(1, n + 1):\n",
    "        result *= i\n",
    "    return result\n",
    "\n",
    "# Call the function and print the result\n",
    "print(factorial(5))"
   ]
  },
  {
   "cell_type": "markdown",
   "id": "35e0e057-5ef4-4f34-92a2-4a4918c3a336",
   "metadata": {},
   "source": [
    "5.Write a Python program to check if a number is prime. Expected Output (for input 7):\n",
    "7 is a prime number"
   ]
  },
  {
   "cell_type": "code",
   "execution_count": 20,
   "id": "9f0b269a-d4b3-4799-85c4-408af5eb1f91",
   "metadata": {},
   "outputs": [
    {
     "name": "stdout",
     "output_type": "stream",
     "text": [
      "7 is a prime number\n"
     ]
    }
   ],
   "source": [
    "num = 7\n",
    "\n",
    "# Check if the number is greater than 1\n",
    "if num > 1:\n",
    "    for i in range(2, num):\n",
    "        if num % i == 0:\n",
    "            print(f\"{num} is not a prime number\")\n",
    "            break\n",
    "    else:\n",
    "        print(f\"{num} is a prime number\")\n",
    "else:\n",
    "    print(f\"{num} is not a prime number\")"
   ]
  },
  {
   "cell_type": "code",
   "execution_count": null,
   "id": "fea8529d-4567-43e1-9ad8-23f1d0d2cbff",
   "metadata": {},
   "outputs": [],
   "source": []
  }
 ],
 "metadata": {
  "kernelspec": {
   "display_name": "Python [conda env:base] *",
   "language": "python",
   "name": "conda-base-py"
  },
  "language_info": {
   "codemirror_mode": {
    "name": "ipython",
    "version": 3
   },
   "file_extension": ".py",
   "mimetype": "text/x-python",
   "name": "python",
   "nbconvert_exporter": "python",
   "pygments_lexer": "ipython3",
   "version": "3.12.7"
  }
 },
 "nbformat": 4,
 "nbformat_minor": 5
}
