{
 "cells": [
  {
   "cell_type": "markdown",
   "id": "c61ef1c5-c76b-41d0-af51-aa55a43efae6",
   "metadata": {},
   "source": [
    "1.A system checks if a user is eligible to vote based on their age.\n",
    "Write logic to ask the user for their age and determine if they are eligible to vote based on whether they are 18 or older."
   ]
  },
  {
   "cell_type": "code",
   "execution_count": 3,
   "id": "106ab417-0716-4c5c-9271-234490734a8d",
   "metadata": {},
   "outputs": [
    {
     "name": "stdin",
     "output_type": "stream",
     "text": [
      "Enter A age: 20\n"
     ]
    },
    {
     "name": "stdout",
     "output_type": "stream",
     "text": [
      "eligible\n"
     ]
    }
   ],
   "source": [
    "age = int(input(\"Enter A age:\"))\n",
    "\n",
    "if (age==18):\n",
    "    print(\"eligible\")\n",
    "elif (age>18):\n",
    "    print(\"eligible\")\n",
    "else:\n",
    "    print(\"not eligible\")\n",
    "          "
   ]
  },
  {
   "cell_type": "markdown",
   "id": "3e2ccc61-23e1-425c-ac28-c4c5155791d5",
   "metadata": {},
   "source": [
    "2.A program processes a list of numbers and needs to find the largest value.\n",
    " Write logic to identify and return the largest number from a given list."
   ]
  },
  {
   "cell_type": "code",
   "execution_count": 10,
   "id": "40998328-4254-4d55-9115-cc9f9ffbe44f",
   "metadata": {},
   "outputs": [
    {
     "name": "stdout",
     "output_type": "stream",
     "text": [
      "The largest number is: 99\n"
     ]
    }
   ],
   "source": [
    "numbers = [10, 25, 30, 40, 55, 99]\n",
    "\n",
    "# Set the first number as the initial largest\n",
    "largest = numbers[0]\n",
    "\n",
    "# Go through each number\n",
    "for num in numbers:\n",
    "    if num > largest:\n",
    "        largest = num\n",
    "\n",
    "# Print the largest number (outside the loop)\n",
    "print(\"The largest number is:\", largest)"
   ]
  },
  {
   "cell_type": "markdown",
   "id": "6d338308-40d7-4da8-b069-3fccc12f7cf4",
   "metadata": {},
   "source": [
    "3.A company provides employees with a 10% bonus if their salary exceeds $50,000.\n",
    " Write logic to determine the bonus amount based on the given salary."
   ]
  },
  {
   "cell_type": "code",
   "execution_count": 13,
   "id": "ee5417e8-baae-4dec-8aa4-e201ee388844",
   "metadata": {},
   "outputs": [
    {
     "name": "stdin",
     "output_type": "stream",
     "text": [
      "Enter the employee's salary:  60000\n"
     ]
    },
    {
     "name": "stdout",
     "output_type": "stream",
     "text": [
      "Bonus amount is: 6000.0\n"
     ]
    }
   ],
   "source": [
    "salary = float(input(\"Enter the employee's salary: \"))\n",
    "\n",
    "if salary > 50000:\n",
    "    bonus = salary * 0.10\n",
    "else:\n",
    "    bonus = 0\n",
    "\n",
    "print(\"Bonus amount is:\", bonus)"
   ]
  },
  {
   "cell_type": "markdown",
   "id": "868a76a2-5e7a-490a-ac77-01cd520a3291",
   "metadata": {},
   "source": [
    "4. A program evaluates a number to determine if it is even or odd.\n",
    " Write logic to check whether a given number is even or odd."
   ]
  },
  {
   "cell_type": "code",
   "execution_count": 17,
   "id": "f4c9cd7e-dea9-453d-96b4-b4d6367db77f",
   "metadata": {},
   "outputs": [
    {
     "name": "stdin",
     "output_type": "stream",
     "text": [
      "Enter A number: 35\n"
     ]
    },
    {
     "name": "stdout",
     "output_type": "stream",
     "text": [
      "odd\n"
     ]
    }
   ],
   "source": [
    "number = int(input(\"Enter A number:\"))\n",
    "if (num %2 == 0):\n",
    "    print(\"even\")\n",
    "else:\n",
    "    print(\"odd\")"
   ]
  },
  {
   "cell_type": "markdown",
   "id": "3c9b637d-ede9-4980-ab4a-83876b09e3b2",
   "metadata": {},
   "source": [
    "5. A text-processing tool reverses a given word or sentence for formatting purposes.\n",
    " Write logic to take a word or sentence as input and produce its reversed version."
   ]
  },
  {
   "cell_type": "code",
   "execution_count": 20,
   "id": "12b3eee8-109b-46d5-ac64-d705103e0457",
   "metadata": {},
   "outputs": [
    {
     "name": "stdin",
     "output_type": "stream",
     "text": [
      "Enter a word or sentence:  Welcome\n"
     ]
    },
    {
     "name": "stdout",
     "output_type": "stream",
     "text": [
      "Reversed text: emocleW\n"
     ]
    }
   ],
   "source": [
    "text = input(\"Enter a word or sentence: \")\n",
    "\n",
    "# Reverse the text using slicing\n",
    "reversed_text = text[::-1]\n",
    "\n",
    "print(\"Reversed text:\", reversed_text)"
   ]
  },
  {
   "cell_type": "markdown",
   "id": "08452569-6781-483c-afa7-12f8543b61ed",
   "metadata": {},
   "source": [
    "6.A grading system determines whether a student has passed or failed based on their score.\n",
    " Write logic to check if a student has passed a subject by scoring at least 40 marks."
   ]
  },
  {
   "cell_type": "code",
   "execution_count": 23,
   "id": "6b2ac094-20f8-4014-b165-44cc5782021a",
   "metadata": {},
   "outputs": [
    {
     "name": "stdin",
     "output_type": "stream",
     "text": [
      "Enter the student's score:  50\n"
     ]
    },
    {
     "name": "stdout",
     "output_type": "stream",
     "text": [
      "Pass\n"
     ]
    }
   ],
   "source": [
    "score = int(input(\"Enter the student's score: \"))\n",
    "\n",
    "if score >= 40:\n",
    "    print(\"Pass\")\n",
    "else:\n",
    "    print(\"Fail\")"
   ]
  },
  {
   "cell_type": "markdown",
   "id": "2f4b6219-9de3-4b9a-bcde-7ca325a56d40",
   "metadata": {},
   "source": [
    "7.A retail store offers a 20% discount if a customer’s total order exceeds $100. Write logic to calculate the final amount to be paid after applying the discount.\n"
   ]
  },
  {
   "cell_type": "code",
   "execution_count": 30,
   "id": "7bf637df-cbcd-4225-bca2-56b38f027440",
   "metadata": {},
   "outputs": [
    {
     "name": "stdin",
     "output_type": "stream",
     "text": [
      "Enter the total amount: 400\n"
     ]
    },
    {
     "name": "stdout",
     "output_type": "stream",
     "text": [
      "Dicount applied:$ 80.0\n",
      "Final amount to be paid:$ 320.0\n"
     ]
    }
   ],
   "source": [
    "total_order = float(input(\"Enter the total amount:\"))\n",
    "if (total_order > 100):\n",
    "    discount = total_order*0.20\n",
    "else:\n",
    "    discount = 0\n",
    "final_amount = total_order - discount\n",
    "print(\"Dicount applied:$\",discount)\n",
    "print(\"Final amount to be paid:$\",final_amount)"
   ]
  },
  {
   "cell_type": "markdown",
   "id": "e874da19-b9bb-4bfc-85ab-4fa89ef08032",
   "metadata": {},
   "source": [
    "8.A banking system processes withdrawal requests and ensures the user has enough balance.\n",
    "\n",
    " Write logic to check if a user has enough balance before allowing a withdrawal and update the remaining balance accordingly."
   ]
  },
  {
   "cell_type": "code",
   "execution_count": 51,
   "id": "38e8bb85-4a53-4479-aa87-e2e60ae76dc2",
   "metadata": {},
   "outputs": [
    {
     "name": "stdout",
     "output_type": "stream",
     "text": [
      "withdrawal sucessful! remaining balance: 200\n"
     ]
    }
   ],
   "source": [
    "# Initial Amount\n",
    "balance = 1000\n",
    "# Withdrawal Amount\n",
    "with_drawal = 800\n",
    "# Checking the remainig balance\n",
    "if (with_drawal <=balance):\n",
    "    balance -=with_drawal\n",
    "    print(f\"withdrawal sucessful! remaining balance:\",balance)\n",
    "else:\n",
    "    print(\"Insufficient balance! withdrawal cannaot be processed.\")"
   ]
  },
  {
   "cell_type": "markdown",
   "id": "a083bc54-9633-4779-8019-6d67f65e1093",
   "metadata": {},
   "source": [
    "9. A calendar system verifies whether a given year is a leap year based on standard leap year rules.\n",
    " Write logic to determine whether a given year is a leap year."
   ]
  },
  {
   "cell_type": "code",
   "execution_count": 57,
   "id": "0c52dc95-fa44-4089-9966-9dd333c3dc6c",
   "metadata": {},
   "outputs": [
    {
     "name": "stdout",
     "output_type": "stream",
     "text": [
      "2024 is a leap year.\n"
     ]
    }
   ],
   "source": [
    "def is_leap_year(year):\n",
    "    # Leap year rule: Divisible by 4, but not divisible by 100, unless divisible by 400\n",
    "    if (year % 4 == 0 and year % 100 != 0) or (year % 400 == 0):\n",
    "        return True\n",
    "    else:\n",
    "        return False\n",
    "\n",
    "# Example usage\n",
    "year = 2024\n",
    "if is_leap_year(year):\n",
    "    print(f\"{year} is a leap year.\")\n",
    "else:\n",
    "    print(f\"{year} is not a leap year.\")"
   ]
  },
  {
   "cell_type": "markdown",
   "id": "bce5a063-d081-4ecf-8ae1-d95119f3f617",
   "metadata": {},
   "source": [
    "10. A program filters out only even numbers from a given list. Write logic to extract and return only the even numbers from a list"
   ]
  },
  {
   "cell_type": "code",
   "execution_count": 79,
   "id": "b903f2d9-9fd0-45e9-bbe1-69e201950358",
   "metadata": {},
   "outputs": [
    {
     "name": "stdout",
     "output_type": "stream",
     "text": [
      "Even numbers: [20, 68, 100]\n"
     ]
    }
   ],
   "source": [
    "def get_even_num():\n",
    "    numbers = [20,45,68,99,100]\n",
    "    even_numbers = []\n",
    "    for num in numbers:\n",
    "        if num %2==0:\n",
    "            even_numbers.append(num)\n",
    "    return even_numbers\n",
    "print(\"Even numbers:\", get_even_num())"
   ]
  },
  {
   "cell_type": "code",
   "execution_count": null,
   "id": "c499ac69-f298-4c28-be75-9f5b94882bc6",
   "metadata": {},
   "outputs": [],
   "source": []
  }
 ],
 "metadata": {
  "kernelspec": {
   "display_name": "Python [conda env:base] *",
   "language": "python",
   "name": "conda-base-py"
  },
  "language_info": {
   "codemirror_mode": {
    "name": "ipython",
    "version": 3
   },
   "file_extension": ".py",
   "mimetype": "text/x-python",
   "name": "python",
   "nbconvert_exporter": "python",
   "pygments_lexer": "ipython3",
   "version": "3.12.7"
  }
 },
 "nbformat": 4,
 "nbformat_minor": 5
}
