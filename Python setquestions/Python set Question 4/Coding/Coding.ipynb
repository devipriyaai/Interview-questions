{
 "cells": [
  {
   "cell_type": "markdown",
   "id": "ba5ee596-4deb-48b9-a05e-ad5eec2cab92",
   "metadata": {},
   "source": [
    "#1.Find the GCD of Two Numbers\n",
    "Question: Write a Python program to find the Greatest Common Divisor (GCD) of 36 and 60."
   ]
  },
  {
   "cell_type": "code",
   "execution_count": 2,
   "id": "bfb2fa76-2681-48dd-b16c-0a0f69f84d1e",
   "metadata": {},
   "outputs": [
    {
     "name": "stdout",
     "output_type": "stream",
     "text": [
      "GCD of 36 and 60 is 12\n"
     ]
    }
   ],
   "source": [
    "import math\n",
    "print(\"GCD of 36 and 60 is\", math.gcd(36, 60))"
   ]
  },
  {
   "cell_type": "markdown",
   "id": "b8ce3e67-7814-4657-8eaf-4fd6a1dee0ef",
   "metadata": {},
   "source": [
    "#2. Find the Sum of Digits of a Number\n",
    "Question: Write a Python program to find the sum of the digits of the number 987."
   ]
  },
  {
   "cell_type": "code",
   "execution_count": 4,
   "id": "d00bc9c6-f414-4fc5-a664-454ea2ac255c",
   "metadata": {},
   "outputs": [
    {
     "name": "stdout",
     "output_type": "stream",
     "text": [
      "Sum of digits: 24\n"
     ]
    }
   ],
   "source": [
    "num = 987\n",
    "sum_digits = sum(int(digit) for digit in str(num))\n",
    "print(\"Sum of digits:\", sum_digits)"
   ]
  },
  {
   "cell_type": "markdown",
   "id": "e6177aca-7a5e-4ab6-99ed-1fed9ae8b2b5",
   "metadata": {},
   "source": [
    "#3.Find All Armstrong Numbers Between 1 and 1000\n",
    "Question: Write a Python program to print all Armstrong numbers between 1 and 1000."
   ]
  },
  {
   "cell_type": "code",
   "execution_count": 6,
   "id": "4d38be07-c928-4dd5-b1cd-d6d1cad5873f",
   "metadata": {},
   "outputs": [
    {
     "name": "stdout",
     "output_type": "stream",
     "text": [
      "1 2 3 4 5 6 7 8 9 153 370 371 407 "
     ]
    }
   ],
   "source": [
    "for num in range(1, 1001):\n",
    "    order = len(str(num))\n",
    "    sum_digits = sum(int(digit) ** order for digit in str(num))\n",
    "    if num == sum_digits:\n",
    "        print(num, end=\" \")"
   ]
  },
  {
   "cell_type": "markdown",
   "id": "062cd3cf-8757-4dd8-83fa-e1d9bd3e81b1",
   "metadata": {},
   "source": [
    "4.Count the Frequency of Each Character in a String\n",
    "Question: Write a Python program to count the frequency of each character in \"programming\"."
   ]
  },
  {
   "cell_type": "code",
   "execution_count": 8,
   "id": "bca30041-ba00-4c5f-893e-6978645a5143",
   "metadata": {},
   "outputs": [
    {
     "name": "stdout",
     "output_type": "stream",
     "text": [
      "{'p': 1, 'r': 2, 'o': 1, 'g': 2, 'a': 1, 'm': 2, 'i': 1, 'n': 1}\n"
     ]
    }
   ],
   "source": [
    "text = \"programming\"\n",
    "frequency = {}\n",
    "\n",
    "for char in text:\n",
    "    frequency[char] = frequency.get(char, 0) + 1\n",
    "\n",
    "print(frequency)"
   ]
  },
  {
   "cell_type": "markdown",
   "id": "6cfd9c23-439f-4963-b07e-58709f4164ed",
   "metadata": {},
   "source": [
    "#5. Generate a List of Squares of Numbers from 1 to 10\n",
    "Question: Write a Python program to generate a list containing squares of numbers from 1 to 10."
   ]
  },
  {
   "cell_type": "code",
   "execution_count": 10,
   "id": "888359e5-08de-428a-887a-65d16b5bd2cb",
   "metadata": {},
   "outputs": [
    {
     "name": "stdout",
     "output_type": "stream",
     "text": [
      "[1, 4, 9, 16, 25, 36, 49, 64, 81, 100]\n"
     ]
    }
   ],
   "source": [
    "squares = [x ** 2 for x in range(1, 11)]\n",
    "print(squares)"
   ]
  },
  {
   "cell_type": "code",
   "execution_count": null,
   "id": "db3cebef-d7a6-4056-8d1d-5ce89e9be97c",
   "metadata": {},
   "outputs": [],
   "source": []
  }
 ],
 "metadata": {
  "kernelspec": {
   "display_name": "Python 3 (ipykernel)",
   "language": "python",
   "name": "python3"
  },
  "language_info": {
   "codemirror_mode": {
    "name": "ipython",
    "version": 3
   },
   "file_extension": ".py",
   "mimetype": "text/x-python",
   "name": "python",
   "nbconvert_exporter": "python",
   "pygments_lexer": "ipython3",
   "version": "3.12.7"
  }
 },
 "nbformat": 4,
 "nbformat_minor": 5
}
