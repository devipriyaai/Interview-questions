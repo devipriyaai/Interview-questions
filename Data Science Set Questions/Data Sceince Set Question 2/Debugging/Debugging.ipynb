{
 "cells": [
  {
   "cell_type": "markdown",
   "id": "a6ff947b-5d8b-4cd3-a106-40790b73921b",
   "metadata": {},
   "source": [
    "# Incorrect code\n",
    "import numpy as np\n",
    "from scipy import stats\n",
    "\n",
    "data = [10, 15, 15, 20, 25]\n",
    "\n",
    " Error: Incorrect function usage\n",
    "mean_val = np.mode(data)\n",
    "median_val = np.mean(data)\n",
    "mode_val = stats.median(data)\n",
    "\n",
    "print(\"Mean:\", mean_val)\n",
    "print(\"Median:\", median_val)\n",
    "print(\"Mode:\", mode_val)"
   ]
  },
  {
   "cell_type": "code",
   "execution_count": 6,
   "id": "f14f8049-7da0-4797-9202-c94682523282",
   "metadata": {},
   "outputs": [
    {
     "name": "stdout",
     "output_type": "stream",
     "text": [
      "Mean: 17.0\n",
      "Median: 15.0\n",
      "Mode: 15\n"
     ]
    }
   ],
   "source": [
    "import numpy as np\n",
    "from scipy import stats\n",
    "\n",
    "data = [10, 15, 15, 20, 25]\n",
    "\n",
    "# correct function usage\n",
    "mean_val = np.mean(data)\n",
    "median_val = np.median(data)\n",
    "mode_val = stats.mode(data)[0]\n",
    "\n",
    "print(\"Mean:\", mean_val)\n",
    "print(\"Median:\", median_val)\n",
    "print(\"Mode:\", mode_val)"
   ]
  },
  {
   "cell_type": "markdown",
   "id": "7ec0e060-2fb1-46c5-a573-03da4f19ebad",
   "metadata": {},
   "source": [
    "# Incorrect code\n",
    "import numpy as np\n",
    "\n",
    "data = [10, 20, 30, 40, 50]\n",
    "\n",
    "Error: Invalid percentile value\n",
    "percentile_90 = np.percentile(data, 120)\n",
    "print(\"90th Percentile:\", percentile_90)\n"
   ]
  },
  {
   "cell_type": "code",
   "execution_count": 12,
   "id": "bec89424-747a-4b8c-b61e-efd9b49d5fcb",
   "metadata": {},
   "outputs": [
    {
     "name": "stdout",
     "output_type": "stream",
     "text": [
      "90th Percentile: 46.0\n"
     ]
    }
   ],
   "source": [
    "#correct code\n",
    "import numpy as np\n",
    "\n",
    "data = [10, 20, 30, 40, 50]\n",
    "\n",
    "#valid percentile value\n",
    "percentile_90 = np.percentile(data, 90)\n",
    "print(\"90th Percentile:\", percentile_90)\n"
   ]
  },
  {
   "cell_type": "markdown",
   "id": "cf3b12c7-3f99-4ede-8de2-cdbb59fcc285",
   "metadata": {},
   "source": [
    "# Incorrect Code\n",
    "import numpy as np\n",
    "\n",
    "data = [10, 12, 14, 16, 18, 100]\n",
    "\n",
    "Error: Incorrect IQR calculation\n",
    "Q1, Q3 = np.percentile(data, 0.25, 0.75)\n",
    "IQR = Q3 - Q1\n",
    "outliers = [x for x in data if x < (Q1 - 1.5 * IQR) or x > (Q3 + 1.5 * IQR)]\n",
    "\n",
    "print(\"Outliers:\", outliers)\n"
   ]
  },
  {
   "cell_type": "code",
   "execution_count": 15,
   "id": "a6bc22fc-4571-4aeb-bf4e-212bc7dcb10d",
   "metadata": {},
   "outputs": [
    {
     "name": "stdout",
     "output_type": "stream",
     "text": [
      "Outliers: [100]\n"
     ]
    }
   ],
   "source": [
    "#correct Code\n",
    "import numpy as np\n",
    "\n",
    "data = [10, 12, 14, 16, 18, 100]\n",
    "\n",
    "# Error: Incorrect IQR calculation\n",
    "Q1, Q3 = np.percentile(data, [25, 75])\n",
    "IQR = Q3 - Q1\n",
    "outliers = [x for x in data if x < (Q1 - 1.5 * IQR) or x > (Q3 + 1.5 * IQR)]\n",
    "\n",
    "print(\"Outliers:\", outliers)\n"
   ]
  },
  {
   "cell_type": "markdown",
   "id": "c24f2585-dea4-4cc9-82bd-0620674f1c50",
   "metadata": {},
   "source": [
    "# Incorrect code\n",
    "import numpy as np\n",
    "\n",
    "data = [10, 20, 30, 40, 50]\n",
    "\n",
    "Error: Using incorrect parameter\n",
    "std_dev = np.std(data, unbiased=True)\n",
    "\n",
    "print(\"Standard Deviation:\", std_dev)"
   ]
  },
  {
   "cell_type": "code",
   "execution_count": 18,
   "id": "212ad2c4-eb60-4b58-9cae-f0c5d95cd241",
   "metadata": {},
   "outputs": [
    {
     "name": "stdout",
     "output_type": "stream",
     "text": [
      "Standard Deviation: 15.811388300841896\n"
     ]
    }
   ],
   "source": [
    "#correct code\n",
    "import numpy as np\n",
    "\n",
    "data = [10, 20, 30, 40, 50]\n",
    "\n",
    "# Using correct parameter\n",
    "std_dev = np.std(data, ddof=1)\n",
    "\n",
    "print(\"Standard Deviation:\", std_dev)"
   ]
  },
  {
   "cell_type": "markdown",
   "id": "2f28294e-6fc8-45e9-bdda-aee123af77af",
   "metadata": {},
   "source": [
    "# Incorrect code\n",
    "from scipy import stats\n",
    "\n",
    "medication_group = [110, 115, 108, 102, 107]\n",
    "placebo_group = [120, 125, 130, 122, 128]\n",
    "\n",
    " Error: Invalid input to ttest_ind\n",
    "t_stat, p_value = stats.ttest_ind(medication_group, placebo_group, axis=1)\n",
    "\n",
    "print(\"T-Statistic:\", t_stat)\n",
    "print(\"P-Value:\", p_value)\n"
   ]
  },
  {
   "cell_type": "code",
   "execution_count": 21,
   "id": "35c0d6aa-1333-4e89-8a15-ef78019d7123",
   "metadata": {},
   "outputs": [
    {
     "name": "stdout",
     "output_type": "stream",
     "text": [
      "T-Statistic: -5.921023912553299\n",
      "P-Value: 0.0003532844625064416\n"
     ]
    }
   ],
   "source": [
    "#correct code\n",
    "from scipy import stats\n",
    "\n",
    "medication_group = [110, 115, 108, 102, 107]\n",
    "placebo_group = [120, 125, 130, 122, 128]\n",
    "\n",
    "#valid input to ttest_ind\n",
    "t_stat, p_value = stats.ttest_ind(medication_group, placebo_group)\n",
    "\n",
    "print(\"T-Statistic:\", t_stat)\n",
    "print(\"P-Value:\", p_value)\n"
   ]
  },
  {
   "cell_type": "markdown",
   "id": "5eca1f23-ece8-4c5c-a0d9-717329953411",
   "metadata": {},
   "source": [
    "# Incorrected Code\n",
    "import pandas as pd\n",
    "import numpy as np\n",
    "from sklearn.linear_model import LinearRegression\n",
    "from statsmodels.stats.outliers_influence import variance_inflation_factor\n",
    "\n",
    " Sample data\n",
    "data = pd.DataFrame({\n",
    "    'Age': [5, 3, 8, 2, 1, 7, 4, 6, 3, 9],\n",
    "    'Mileage': [50000, 30000, 80000, 20000, 15000, 70000, 40000, 60000, 35000, 90000],\n",
    "    'EngineSize': [1.2, 1.6, 2.0, 1.0, 1.3, 2.5, 1.8, 2.2, 1.5, 2.8]\n",
    "})\n",
    "\n",
    "Error: Incorrect VIF calculation\n",
    "vif_data = pd.DataFrame()\n",
    "vif_data['Feature'] = data.columns\n",
    "vif_data['VIF'] = [variance_inflation_factor(data.values, i) for i in range(data.shape[1], -1)]\n",
    "\n",
    "print(vif_data)"
   ]
  },
  {
   "cell_type": "code",
   "execution_count": 29,
   "id": "83426efc-6120-4fcc-a378-651a59abe03e",
   "metadata": {},
   "outputs": [
    {
     "name": "stdout",
     "output_type": "stream",
     "text": [
      "      Feature          VIF\n",
      "0         Age   885.531249\n",
      "1     Mileage  1059.299089\n",
      "2  EngineSize    22.929372\n"
     ]
    }
   ],
   "source": [
    "#corrected Code\n",
    "import pandas as pd\n",
    "import numpy as np\n",
    "from sklearn.linear_model import LinearRegression\n",
    "from statsmodels.stats.outliers_influence import variance_inflation_factor\n",
    "\n",
    "# Sample data\n",
    "data = pd.DataFrame({\n",
    "    'Age': [5, 3, 8, 2, 1, 7, 4, 6, 3, 9],\n",
    "    'Mileage': [50000, 30000, 80000, 20000, 15000, 70000, 40000, 60000, 35000, 90000],\n",
    "    'EngineSize': [1.2, 1.6, 2.0, 1.0, 1.3, 2.5, 1.8, 2.2, 1.5, 2.8]\n",
    "})\n",
    "\n",
    "# Error: Incorrect VIF calculation\n",
    "vif_data = pd.DataFrame()\n",
    "vif_data['Feature'] = data.columns\n",
    "vif_data['VIF'] = [variance_inflation_factor(data.values, i) for i in range(data.shape[1])]\n",
    "\n",
    "print(vif_data)"
   ]
  },
  {
   "cell_type": "code",
   "execution_count": null,
   "id": "a94e96fc-cf7d-4da3-855a-2c450bcfed84",
   "metadata": {},
   "outputs": [],
   "source": []
  }
 ],
 "metadata": {
  "kernelspec": {
   "display_name": "Python 3 (ipykernel)",
   "language": "python",
   "name": "python3"
  },
  "language_info": {
   "codemirror_mode": {
    "name": "ipython",
    "version": 3
   },
   "file_extension": ".py",
   "mimetype": "text/x-python",
   "name": "python",
   "nbconvert_exporter": "python",
   "pygments_lexer": "ipython3",
   "version": "3.12.7"
  }
 },
 "nbformat": 4,
 "nbformat_minor": 5
}
