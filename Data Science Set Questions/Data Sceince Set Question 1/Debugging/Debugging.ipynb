{
 "cells": [
  {
   "cell_type": "markdown",
   "id": "3819eaa8-8940-465a-88e0-3ba3ea892664",
   "metadata": {},
   "source": [
    "# Mistaken Code\n",
    " Importing the pandas library for data manipulation\n",
    "import pandas as pd  \n",
    "\n",
    " Creating a dictionary with Name, Age, and Gender data\n",
    "data = {'Name': ['Alice', 'Bob', 'Charlie'], \n",
    "        'Age': [25, 30, 'Thirty-Five'],  # Incorrect: 'Thirty-Five' is a string instead of a number\n",
    "        'Gender': ['F', 'M', 'M']}  \n",
    "\n",
    " Converting the dictionary to a DataFrame\n",
    "df = pd.DataFrame(data)\n",
    "\n",
    "Attempting to calculate the average age\n",
    " Error: The 'Age' column has a string value ('Thirty-Five'), which will cause a TypeError\n",
    "average_age = df['Age'].mean()\n",
    "\n",
    " Printing the result\n",
    "print(f\"Average Age: {average_age}\")"
   ]
  },
  {
   "cell_type": "code",
   "execution_count": 7,
   "id": "56a179e6-1241-475b-8da1-09e5f84bf4ae",
   "metadata": {},
   "outputs": [
    {
     "name": "stdout",
     "output_type": "stream",
     "text": [
      "Average Age: 27.5\n"
     ]
    }
   ],
   "source": [
    "#Corrected Code\n",
    "import pandas as pd\n",
    "\n",
    "# Creating a dataset with names, ages, and genders\n",
    "data = {'Name': ['Alice', 'Bob', 'Charlie'], \n",
    "        'Age': [25, 30, 'Thirty-Five'],  # 'Thirty-Five' is not a number\n",
    "        'Gender': ['F', 'M', 'M']}\n",
    "\n",
    "# Converting the data to a DataFrame\n",
    "df = pd.DataFrame(data)\n",
    "\n",
    "# Convert 'Age' to numeric and handle non-numeric values using 'coerce' (replaces them with NaN)\n",
    "df['Age'] = pd.to_numeric(df['Age'], errors='coerce')\n",
    "\n",
    "# Calculate the average age, ignoring NaN values\n",
    "average_age = df['Age'].mean()\n",
    "\n",
    "# Print the result\n",
    "print(f\"Average Age: {average_age}\")"
   ]
  },
  {
   "cell_type": "markdown",
   "id": "764f37ed-f7a1-4657-a7f8-5b5697c97606",
   "metadata": {},
   "source": [
    "# #Mistaken Code\n",
    "import numpy as np\n",
    "\n",
    " Creating a dataset with numbers from 1 to 10\n",
    "data = [1, 2, 3, 4, 5, 6, 7, 8, 9, 10]\n",
    "\n",
    " Attempting to calculate the 25th percentile (Q1) and 75th percentile (Q3) using incorrect syntax\n",
    "q1, q3 = np.percentile(data, 25, 75)  # Incorrect syntax\n",
    "\n",
    " Print the percentiles\n",
    "q1, q3"
   ]
  },
  {
   "cell_type": "code",
   "execution_count": 10,
   "id": "6b17d43a-ca40-41ba-b94d-42fff27d835b",
   "metadata": {},
   "outputs": [
    {
     "name": "stdout",
     "output_type": "stream",
     "text": [
      "Q1:3.25,Q3:7.75\n"
     ]
    }
   ],
   "source": [
    "#Correctes Code\n",
    "import numpy as np\n",
    "\n",
    "# Creating a dataset with numbers from 1 to 10\n",
    "data = [1, 2, 3, 4, 5, 6, 7, 8, 9, 10]\n",
    "\n",
    "# Attempting to calculate the 25th percentile (Q1) and 75th percentile (Q3) using incorrect syntax\n",
    "q1, q3 = np.percentile(data, [25, 75])  # correct syntax\n",
    "\n",
    "# Print the percentiles\n",
    "print(f\"Q1:{q1},Q3:{q3}\")\n"
   ]
  },
  {
   "cell_type": "markdown",
   "id": "07b77dcd-8954-4640-9252-dafb946f3a23",
   "metadata": {},
   "source": [
    "# # Mistaken Code\n",
    "import numpy as np\n",
    "from scipy.stats import zscore\n",
    "\n",
    "data = [1, 2, 3, 100, 5, 6, 7, 8, 9]\n",
    "\n",
    " Incorrect: Applying zscore directly with a comparison results in an error\n",
    "outliers = [i for i in data if zscore(data) > 2]  \n"
   ]
  },
  {
   "cell_type": "code",
   "execution_count": 13,
   "id": "849aa251-0a23-464d-a6a1-acf4e7a7aedd",
   "metadata": {},
   "outputs": [
    {
     "name": "stdout",
     "output_type": "stream",
     "text": [
      "Outliers: [100]\n"
     ]
    }
   ],
   "source": [
    "# Corrected Code\n",
    "import numpy as np\n",
    "from scipy.stats import zscore\n",
    "\n",
    "data = [1, 2, 3, 100, 5, 6, 7, 8, 9]\n",
    "\n",
    "# Calculate Z-scores for each data point\n",
    "z_scores = zscore(data)\n",
    "\n",
    "# Correct: Identify outliers using element-wise comparison\n",
    "outliers = [data[i] for i in range(len(data)) if abs(z_scores[i]) > 2]\n",
    "\n",
    "print(\"Outliers:\", outliers)"
   ]
  },
  {
   "cell_type": "markdown",
   "id": "d988fd1b-8735-44a9-9098-d4850decad8b",
   "metadata": {},
   "source": [
    "# import numpy as np\n",
    "from scipy.stats import zscore\n",
    "\n",
    "data = [1, 2, 3, 100, 5, 6, 7, 8, 9]\n",
    "median = np.median(data)\n",
    "\n",
    " Incorrect: Using zscore directly on individual data points instead of the entire dataset\n",
    "data = [median if abs(zscore(x)) > 2 else x for x in data]"
   ]
  },
  {
   "cell_type": "code",
   "execution_count": 17,
   "id": "e5a5b633-ffa9-4043-a1e1-369da614e12b",
   "metadata": {},
   "outputs": [
    {
     "name": "stdout",
     "output_type": "stream",
     "text": [
      "[1, 2, 3, 6.0, 5, 6, 7, 8, 9]\n"
     ]
    }
   ],
   "source": [
    "import numpy as np\n",
    "from scipy.stats import zscore\n",
    "\n",
    "data = [1, 2, 3, 100, 5, 6, 7, 8, 9]\n",
    "\n",
    "# Calculate Z-scores for the entire dataset\n",
    "z_scores = zscore(data)\n",
    "median = np.median(data)\n",
    "\n",
    "# Correct: Replace outliers with the median using proper Z-score comparison\n",
    "data = [median if abs(z_scores[i]) > 2 else data[i] for i in range(len(data))]\n",
    "print(data)"
   ]
  },
  {
   "cell_type": "markdown",
   "id": "6a8db399-e4b4-4f17-aec3-c47df4e544ee",
   "metadata": {},
   "source": [
    "# from scipy.stats import norm\n",
    "\n",
    " Incorrect: Using a negative value for standard deviation, which is invalid\n",
    "pdf_val = norm.pdf(2, 0, -1)\n",
    "pdf_val"
   ]
  },
  {
   "cell_type": "code",
   "execution_count": 21,
   "id": "cecddc27-07a9-453e-9aa9-34f70b995e2c",
   "metadata": {},
   "outputs": [
    {
     "data": {
      "text/plain": [
       "0.05399096651318806"
      ]
     },
     "execution_count": 21,
     "metadata": {},
     "output_type": "execute_result"
    }
   ],
   "source": [
    "from scipy.stats import norm\n",
    "\n",
    "# correct: Using a positive value for standard deviation, which is valid\n",
    "pdf_val = norm.pdf(2, 0, 1)\n",
    "pdf_val"
   ]
  },
  {
   "cell_type": "markdown",
   "id": "891a3004-c75e-4c8a-9319-f83d7882c323",
   "metadata": {},
   "source": [
    "# import seaborn as sns\n",
    "import pandas as pd\n",
    "\n",
    "df = pd.DataFrame({'A': [1, 2, 3], 'B': [4, 5, 6]})\n",
    "\n",
    " Incorrect: 'C' column doesn't exist in the DataFrame, causing a KeyError\n",
    "sns.pairplot(df, hue='C')  \n"
   ]
  },
  {
   "cell_type": "code",
   "execution_count": 24,
   "id": "fdc8a014-a11f-47e7-bb9a-be9cd47d2cd3",
   "metadata": {},
   "outputs": [
    {
     "data": {
      "text/plain": [
       "<seaborn.axisgrid.PairGrid at 0x23d0b4f7920>"
      ]
     },
     "execution_count": 24,
     "metadata": {},
     "output_type": "execute_result"
    },
    {
     "data": {
      "image/png": "[encoded data removed]",
      "text/plain": [
       "<Figure size 500x500 with 6 Axes>"
      ]
     },
     "metadata": {},
     "output_type": "display_data"
    }
   ],
   "source": [
    "import seaborn as sns\n",
    "import pandas as pd\n",
    "\n",
    "df = pd.DataFrame({'A': [1, 2, 3], 'B': [4, 5, 6]})\n",
    "\n",
    "# correct: plotting without hue paramater\n",
    "sns.pairplot(df)  "
   ]
  },
  {
   "cell_type": "markdown",
   "id": "a979b536-5ed1-4cf6-b870-b8ca478c4a6f",
   "metadata": {},
   "source": [
    "# import numpy as np\n",
    "\n",
    "x = [1, 2, 3, 4]\n",
    "y = [2, 4, 6, 8]\n",
    "\n",
    " Incorrect: np.cov() requires input data, missing arguments will raise an error\n",
    "cov_matrix = np.cov() "
   ]
  },
  {
   "cell_type": "code",
   "execution_count": 27,
   "id": "8d2ebe9d-df02-4d48-a1f6-2787df709393",
   "metadata": {},
   "outputs": [
    {
     "data": {
      "text/plain": [
       "array([[1.66666667, 3.33333333],\n",
       "       [3.33333333, 6.66666667]])"
      ]
     },
     "execution_count": 27,
     "metadata": {},
     "output_type": "execute_result"
    }
   ],
   "source": [
    "import numpy as np\n",
    "\n",
    "x = [1, 2, 3, 4]\n",
    "y = [2, 4, 6, 8]\n",
    "\n",
    "# correct: providing input and output arguments\n",
    "cov_matrix = np.cov(x,y) \n",
    "cov_matrix"
   ]
  },
  {
   "cell_type": "markdown",
   "id": "0c156a1e-2df4-4dfd-9ff3-9178e91a39bf",
   "metadata": {},
   "source": [
    "# import numpy as np\n",
    "\n",
    "data = [2, 4, 6, 8, 10]\n",
    "\n",
    "Incorrect: 'mean()' is not defined. Should use 'np.mean()' instead.\n",
    "mean_value = mean(data)\n",
    "print(f\"Mean: {mean_value}\")"
   ]
  },
  {
   "cell_type": "code",
   "execution_count": 30,
   "id": "07df84d8-8d71-4c27-af2f-3ad486ddeba1",
   "metadata": {},
   "outputs": [
    {
     "name": "stdout",
     "output_type": "stream",
     "text": [
      "Mean: 6.0\n"
     ]
    }
   ],
   "source": [
    "import numpy as np\n",
    "\n",
    "data = [2, 4, 6, 8, 10]\n",
    "\n",
    "# Correct: Using 'np.mean()' to calculate the mean value.\n",
    "mean_value = np.mean(data)\n",
    "print(f\"Mean: {mean_value}\")"
   ]
  },
  {
   "cell_type": "markdown",
   "id": "1a6f54ce-3552-434b-9abe-733d6243372c",
   "metadata": {},
   "source": [
    "# import pandas as pd\n",
    "import numpy as np\n",
    "\n",
    " Creating a DataFrame with NaN values\n",
    "data = {'A': [1, 2, np.nan, 4], 'B': [np.nan, 5, 6, np.nan]}\n",
    "df = pd.DataFrame(data)\n",
    "\n",
    " Incorrect: Using 'inplace=False' without assigning it back to df, so changes are not reflected\n",
    "df.replace(np.nan, 0, inplace=False)  \n",
    "print(df)"
   ]
  },
  {
   "cell_type": "code",
   "execution_count": 33,
   "id": "ea549f5a-5985-42ce-b7f7-ce2397b11556",
   "metadata": {},
   "outputs": [
    {
     "name": "stdout",
     "output_type": "stream",
     "text": [
      "     A    B\n",
      "0  1.0  0.0\n",
      "1  2.0  5.0\n",
      "2  0.0  6.0\n",
      "3  4.0  0.0\n"
     ]
    }
   ],
   "source": [
    "import pandas as pd\n",
    "import numpy as np\n",
    "\n",
    "# Creating a DataFrame with NaN values\n",
    "data = {'A': [1, 2, np.nan, 4], 'B': [np.nan, 5, 6, np.nan]}\n",
    "df = pd.DataFrame(data)\n",
    "\n",
    "# correct: Using fillna() and inplace = True\n",
    "df.fillna(0, inplace=True)  \n",
    "print(df)"
   ]
  },
  {
   "cell_type": "markdown",
   "id": "27e28c5e-c065-4efb-a951-14c6aff30bf8",
   "metadata": {},
   "source": [
    "# import numpy as np\n",
    "import pandas as pd\n",
    "\n",
    " Creating a DataFrame\n",
    "data = {'A': [1, 2, 3, 4], 'B': [5, 6, 7, 8]}\n",
    "df = pd.DataFrame(data)\n",
    "\n",
    " Incorrect: Attempting to find the correlation without specifying columns\n",
    "correlation = np.corrcoef()\n",
    "print(\"Correlation:\\n\", correlation)"
   ]
  },
  {
   "cell_type": "code",
   "execution_count": 36,
   "id": "ae5c529f-184d-49a8-90c2-20b3b4633ef1",
   "metadata": {},
   "outputs": [
    {
     "name": "stdout",
     "output_type": "stream",
     "text": [
      "Correlation:\n",
      " [[1. 1.]\n",
      " [1. 1.]]\n"
     ]
    }
   ],
   "source": [
    "import numpy as np\n",
    "import pandas as pd\n",
    "\n",
    "# Creating a DataFrame\n",
    "data = {'A': [1, 2, 3, 4], 'B': [5, 6, 7, 8]}\n",
    "df = pd.DataFrame(data)\n",
    "\n",
    "# correct: specify the DataFrame\n",
    "correlation = np.corrcoef(df['A'],df['B'])\n",
    "print(\"Correlation:\\n\", correlation)"
   ]
  },
  {
   "cell_type": "code",
   "execution_count": null,
   "id": "6aaff257-010e-41d7-b991-aa18a17b8974",
   "metadata": {},
   "outputs": [],
   "source": []
  }
 ],
 "metadata": {
  "kernelspec": {
   "display_name": "Python 3 (ipykernel)",
   "language": "python",
   "name": "python3"
  },
  "language_info": {
   "codemirror_mode": {
    "name": "ipython",
    "version": 3
   },
   "file_extension": ".py",
   "mimetype": "text/x-python",
   "name": "python",
   "nbconvert_exporter": "python",
   "pygments_lexer": "ipython3",
   "version": "3.12.7"
  }
 },
 "nbformat": 4,
 "nbformat_minor": 5
}
