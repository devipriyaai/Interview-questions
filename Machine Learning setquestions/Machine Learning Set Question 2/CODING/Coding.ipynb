{
 "cells": [
  {
   "cell_type": "markdown",
   "id": "623951a3-eeed-4a32-9552-9bac9a693fdc",
   "metadata": {},
   "source": [
    "# #1.Identify Customers with High Purchase Frequency\n",
    "import pandas as pd\n",
    "\n",
    "data = {'Customer_ID': [101, 102, 103, 101, 104, 102, 101, 105, 102, 103],\n",
    "        'Purchase_Amount': [200, 150, 180, 220, 300, 200, 100, 400, 250, 300]}\n",
    "\n",
    "df = pd.DataFrame(data)\n",
    "\n",
    "\n",
    "Task:\n",
    "Group customers by Customer_ID and count the number of purchases per customer.\n",
    "\n",
    "Identify the top 3 customers with the highest number of purchases.\n",
    "\n",
    "Expected Output:\n",
    "    Customer Purchase Frequency:\n",
    "   Customer_ID  Purchase_Count\n",
    "0         101               3\n",
    "1         102               3\n",
    "2         103               2\n",
    "3         104               1\n",
    "4         105               1\n",
    "\n",
    "Top 3 Frequent Customers:\n",
    "   Customer_ID  Purchase_Count\n",
    "0         101               3\n",
    "1         102               3\n",
    "2         103               2\n"
   ]
  },
  {
   "cell_type": "code",
   "execution_count": 3,
   "id": "bf26c9c1-de24-4158-8912-1fda040eabf2",
   "metadata": {},
   "outputs": [
    {
     "name": "stdout",
     "output_type": "stream",
     "text": [
      "Customer Purchase Frequency:\n",
      "   Customer_ID  Purchase_Count\n",
      "0          101               3\n",
      "1          102               3\n",
      "2          103               2\n",
      "3          104               1\n",
      "4          105               1\n",
      "\n",
      "Top 3 Frequent Customers:\n",
      "   Customer_ID  Purchase_Count\n",
      "0          101               3\n",
      "1          102               3\n",
      "2          103               2\n"
     ]
    }
   ],
   "source": [
    "#.ans \n",
    "import pandas as pd\n",
    "\n",
    "# Creating the DataFrame\n",
    "data = {'Customer_ID': [101, 102, 103, 101, 104, 102, 101, 105, 102, 103],\n",
    "        'Purchase_Amount': [200, 150, 180, 220, 300, 200, 100, 400, 250, 300]}\n",
    "\n",
    "df = pd.DataFrame(data)\n",
    "\n",
    "# Group by Customer_ID and count purchases\n",
    "purchase_freq = df.groupby('Customer_ID').size().reset_index(name='Purchase_Count')\n",
    "\n",
    "# Sorting and getting top 3 customers\n",
    "top_customers = purchase_freq.sort_values(by='Purchase_Count', ascending=False).head(3)\n",
    "\n",
    "print(\"Customer Purchase Frequency:\")\n",
    "print(purchase_freq)\n",
    "\n",
    "print(\"\\nTop 3 Frequent Customers:\")\n",
    "print(top_customers)"
   ]
  },
  {
   "cell_type": "markdown",
   "id": "c82a4521-00f3-4990-b459-82b2ba67d8c4",
   "metadata": {},
   "source": [
    "# #2. Find Students with the Highest Average Exam Scores\n",
    "import pandas as pd\n",
    "\n",
    "data = {'Student_ID': [201, 202, 203, 201, 204, 202, 201, 205, 202, 203],\n",
    "        'Exam_Score': [85, 90, 78, 88, 92, 87, 80, 95, 89, 84]}\n",
    "\n",
    "df = pd.DataFrame(data)\n",
    "\n",
    "Task:\n",
    "Calculate the average exam score per student.\n",
    "\n",
    "Display the top 3 students with the highest average scores.\n",
    "\n",
    "Expected Output:\n",
    "\n",
    "Average Exam Scores per Student:\n",
    "   Student_ID  Avg_Score\n",
    "0        201   84.33\n",
    "1        202   88.67\n",
    "2        203   81.00\n",
    "3        204   92.00\n",
    "4        205   95.00\n",
    "\n",
    "Top 3 Students:\n",
    "   Student_ID  Avg_Score\n",
    "0        205   95.00\n",
    "1        204   92.00\n",
    "2        202   88.67"
   ]
  },
  {
   "cell_type": "code",
   "execution_count": 6,
   "id": "34d947ec-12b1-4271-bcd2-ebea11d59a48",
   "metadata": {},
   "outputs": [
    {
     "name": "stdout",
     "output_type": "stream",
     "text": [
      "Average Exam Scores per Student:\n",
      "   Student_ID  Avg_Score\n",
      "0         201  84.333333\n",
      "1         202  88.666667\n",
      "2         203  81.000000\n",
      "3         204  92.000000\n",
      "4         205  95.000000\n",
      "\n",
      "Top 3 Students with Highest Scores:\n",
      "   Student_ID  Avg_Score\n",
      "4         205  95.000000\n",
      "3         204  92.000000\n",
      "1         202  88.666667\n"
     ]
    }
   ],
   "source": [
    "#2.sln:\n",
    "import pandas as pd\n",
    "\n",
    "# Creating the DataFrame\n",
    "data = {'Student_ID': [201, 202, 203, 201, 204, 202, 201, 205, 202, 203],\n",
    "        'Exam_Score': [85, 90, 78, 88, 92, 87, 80, 95, 89, 84]}\n",
    "\n",
    "df = pd.DataFrame(data)\n",
    "\n",
    "# Grouping by Student_ID and calculating the average score\n",
    "average_scores = df.groupby('Student_ID')['Exam_Score'].mean().reset_index()\n",
    "average_scores.rename(columns={'Exam_Score': 'Avg_Score'}, inplace=True)\n",
    "\n",
    "# Finding the top 3 students with the highest average scores\n",
    "top_students = average_scores.sort_values(by='Avg_Score', ascending=False).head(3)\n",
    "\n",
    "print(\"Average Exam Scores per Student:\")\n",
    "print(average_scores)\n",
    "\n",
    "print(\"\\nTop 3 Students with Highest Scores:\")\n",
    "print(top_students)"
   ]
  },
  {
   "cell_type": "markdown",
   "id": "58f13412-b5f2-43cc-bec0-dc347f992b8c",
   "metadata": {},
   "source": [
    "# 3. Predict House Prices Using Linear Regression\n",
    "Dataset:\n",
    "\n",
    "import pandas as pd\n",
    "\n",
    "data = {'Size_sqft': [1500, 1800, 2400, 3000, 3500, 4000],\n",
    "        'Price': [300000, 350000, 450000, 550000, 650000, 700000]}\n",
    "\n",
    "df = pd.DataFrame(data)\n",
    "Task:\n",
    "Train a Linear Regression model to predict house prices based on Size_sqft.\n",
    "\n",
    "Predict the price of a house of size 2800 sqft.\n",
    "\n",
    "Expected Output:\n",
    "Predicted Price for 2800 sqft: $516491"
   ]
  },
  {
   "cell_type": "code",
   "execution_count": 15,
   "id": "ec35c5c4-1b29-480d-9662-00edd1390862",
   "metadata": {},
   "outputs": [
    {
     "name": "stdout",
     "output_type": "stream",
     "text": [
      "Predicted Price for 2800 sqft: $516491\n"
     ]
    }
   ],
   "source": [
    "#3.sln:\n",
    "import pandas as pd\n",
    "import numpy as np\n",
    "from sklearn.linear_model import LinearRegression\n",
    "import warnings\n",
    "warnings.filterwarnings(\"ignore\")\n",
    "# Creating the DataFrame\n",
    "data = {'Size_sqft': [1500, 1800, 2400, 3000, 3500, 4000],\n",
    "        'Price': [300000, 350000, 450000, 550000, 650000, 700000]}\n",
    "\n",
    "df = pd.DataFrame(data)\n",
    "\n",
    "# Defining features and target\n",
    "X = df[['Size_sqft']]\n",
    "y = df['Price']\n",
    "\n",
    "# Training the model\n",
    "model = LinearRegression()\n",
    "model.fit(X, y)\n",
    "\n",
    "# Predicting price for 2800 sqft house\n",
    "predicted_price = model.predict([[2800]])\n",
    "print(f\"Predicted Price for 2800 sqft: ${int(predicted_price[0])}\")"
   ]
  },
  {
   "cell_type": "markdown",
   "id": "e70dd029-40df-465b-8585-a7e580bdac36",
   "metadata": {},
   "source": [
    "# 4. Identify the Most Commonly Purchased Products\n",
    "dataset:\n",
    "import pandas as pd\n",
    "\n",
    "data = {'Product_ID': ['P101', 'P102', 'P103', 'P101', 'P104', 'P102', 'P101', 'P105', 'P102', 'P103'],\n",
    "        'Purchase_Count': [5, 3, 4, 2, 1, 6, 7, 3, 2, 5]}\n",
    "\n",
    "df = pd.DataFrame(data)\n",
    "Task:\n",
    "Group products by Product_ID and sum their Purchase_Count.\n",
    "\n",
    "Identify the top 3 most purchased products.\n",
    "\n",
    "Expected Output:\n",
    "Product Purchase Counts:\n",
    "   Product_ID  Total_Purchases\n",
    "0       P101               14\n",
    "1       P102               11\n",
    "2       P103                9\n",
    "3       P104                1\n",
    "4       P105                3\n",
    "\n",
    "Top 3 Purchased Products:\n",
    "   Product_ID  Total_Purchases\n",
    "0       P101               14\n",
    "1       P102               11\n",
    "2       P103                9"
   ]
  },
  {
   "cell_type": "code",
   "execution_count": 18,
   "id": "d66fd74c-0baf-44f9-9923-c0a83d280028",
   "metadata": {},
   "outputs": [
    {
     "name": "stdout",
     "output_type": "stream",
     "text": [
      "Product Purchase Counts:\n",
      "  Product_ID  Purchase_Count\n",
      "0       P101              14\n",
      "1       P102              11\n",
      "2       P103               9\n",
      "3       P104               1\n",
      "4       P105               3\n",
      "\n",
      "Top 3 Purchased Products:\n",
      "  Product_ID  Purchase_Count\n",
      "0       P101              14\n",
      "1       P102              11\n",
      "2       P103               9\n"
     ]
    }
   ],
   "source": [
    " \n",
    "#sln\n",
    "import pandas as pd\n",
    "\n",
    "# Creating the DataFrame\n",
    "data = {'Product_ID': ['P101', 'P102', 'P103', 'P101', 'P104', 'P102', 'P101', 'P105', 'P102', 'P103'],\n",
    "        'Purchase_Count': [5, 3, 4, 2, 1, 6, 7, 3, 2, 5]}\n",
    "\n",
    "df = pd.DataFrame(data)\n",
    "\n",
    "# Group by Product_ID and sum the purchase count\n",
    "product_purchases = df.groupby('Product_ID')['Purchase_Count'].sum().reset_index()\n",
    "\n",
    "# Sorting and getting top 3 purchased products\n",
    "top_products = product_purchases.sort_values(by='Purchase_Count', ascending=False).head(3)\n",
    "\n",
    "print(\"Product Purchase Counts:\")\n",
    "print(product_purchases)\n",
    "\n",
    "print(\"\\nTop 3 Purchased Products:\")\n",
    "print(top_products)"
   ]
  },
  {
   "cell_type": "markdown",
   "id": "b8b88689-9c66-47da-984c-97f6086e94a5",
   "metadata": {},
   "source": [
    "# 5. Cluster Customers Based on Their Purchase Amounts\n",
    "Dataset:\n",
    "import pandas as pd\n",
    "\n",
    "data = {'Customer_ID': [1, 2, 3, 4, 5, 6, 7, 8, 9, 10],\n",
    "        'Total_Spend': [500, 1500, 2000, 2500, 3000, 3500, 4000, 1000, 1200, 2700]}\n",
    "\n",
    "df = pd.DataFrame(data)\n",
    "\n",
    "Task:\n",
    "Apply K-Means Clustering to segment customers into 3 clusters.\n",
    "\n",
    "Print the cluster labels for each customer.\n",
    "\n",
    "Expected Output:\n",
    "Customer Clusters:\n",
    "   Customer_ID  Total_Spend  Cluster_Label\n",
    "0            1          500              1\n",
    "1            2         1500              1\n",
    "2            3         2000              2\n",
    "3            4         2500              2\n",
    "4            5         3000              2\n",
    "5            6         3500              0\n",
    "6            7         4000              0\n",
    "7            8         1000              1\n",
    "8            9         1200              1\n",
    "9           10         2700              2"
   ]
  },
  {
   "cell_type": "code",
   "execution_count": 21,
   "id": "c5fd27b3-a194-4c5f-90bf-f0f876d3c3f8",
   "metadata": {},
   "outputs": [
    {
     "name": "stdout",
     "output_type": "stream",
     "text": [
      "Customer Clusters:\n",
      "   Customer_ID  Total_Spend  Cluster_Label\n",
      "0            1          500              0\n",
      "1            2         1500              0\n",
      "2            3         2000              2\n",
      "3            4         2500              2\n",
      "4            5         3000              2\n",
      "5            6         3500              1\n",
      "6            7         4000              1\n",
      "7            8         1000              0\n",
      "8            9         1200              0\n",
      "9           10         2700              2\n"
     ]
    }
   ],
   "source": [
    "#5.sln:\n",
    "import pandas as pd\n",
    "from sklearn.cluster import KMeans\n",
    "\n",
    "# Creating the DataFrame\n",
    "data = {'Customer_ID': [1, 2, 3, 4, 5, 6, 7, 8, 9, 10],\n",
    "        'Total_Spend': [500, 1500, 2000, 2500, 3000, 3500, 4000, 1000, 1200, 2700]}\n",
    "\n",
    "df = pd.DataFrame(data)\n",
    "\n",
    "# Applying K-Means Clustering\n",
    "kmeans = KMeans(n_clusters=3, random_state=42, n_init=10)\n",
    "df['Cluster_Label'] = kmeans.fit_predict(df[['Total_Spend']])\n",
    "\n",
    "print(\"Customer Clusters:\")\n",
    "print(df)"
   ]
  },
  {
   "cell_type": "code",
   "execution_count": null,
   "id": "574906a0-ab92-4ba8-a057-23bb18355c74",
   "metadata": {},
   "outputs": [],
   "source": []
  }
 ],
 "metadata": {
  "kernelspec": {
   "display_name": "Python [conda env:base] *",
   "language": "python",
   "name": "conda-base-py"
  },
  "language_info": {
   "codemirror_mode": {
    "name": "ipython",
    "version": 3
   },
   "file_extension": ".py",
   "mimetype": "text/x-python",
   "name": "python",
   "nbconvert_exporter": "python",
   "pygments_lexer": "ipython3",
   "version": "3.12.7"
  }
 },
 "nbformat": 4,
 "nbformat_minor": 5
}
