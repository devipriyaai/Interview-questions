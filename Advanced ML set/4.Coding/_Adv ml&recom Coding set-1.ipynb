{
 "cells": [
  {
   "cell_type": "code",
   "execution_count": 5,
   "id": "f45b108c",
   "metadata": {},
   "outputs": [
    {
     "name": "stdout",
     "output_type": "stream",
     "text": [
      "0    40000\n",
      "1    50000\n",
      "2    60000\n",
      "3    52000\n",
      "4    62000\n",
      "Name: Salary, dtype: int64\n"
     ]
    }
   ],
   "source": [
    "#1.\n",
    "import pandas as pd\n",
    "\n",
    "df = pd.DataFrame({\n",
    "    'Age': [25, 32, 47, 51, 62],\n",
    "    'Salary': [40000, 50000, 60000, 52000, 62000],\n",
    "    'Purchased': [0, 1, 1, 0, 1]\n",
    "})\n",
    "\n",
    "X = df[['Age', 'Salary']]\n",
    "y = df['Purchased']\n",
    "print(df['Salary'])"
   ]
  },
  {
   "cell_type": "code",
   "execution_count": 6,
   "id": "72f065fe",
   "metadata": {},
   "outputs": [
    {
     "name": "stdout",
     "output_type": "stream",
     "text": [
      "['Apple', 'Banana']\n"
     ]
    }
   ],
   "source": [
    "#2.\n",
    "import pandas as pd\n",
    "\n",
    "data = pd.DataFrame({\n",
    "    'User': ['A', 'A', 'B', 'B', 'C', 'C'],\n",
    "    'Item': ['Apple', 'Banana', 'Apple', 'Orange', 'Banana', 'Orange'],\n",
    "    'Rating': [5, 3, 4, 2, 5, 4]\n",
    "})\n",
    "\n",
    "# Group by Item and calculate sum of ratings\n",
    "item_popularity = data.groupby('Item')['Rating'].sum().reset_index()\n",
    "\n",
    "# Sort items by total rating (descending)\n",
    "top_items = item_popularity.sort_values(by='Rating', ascending=False)\n",
    "\n",
    "# Select top 2\n",
    "recommendations = top_items.head(2)['Item'].tolist()\n",
    "\n",
    "print(recommendations)\n",
    "\n"
   ]
  },
  {
   "cell_type": "code",
   "execution_count": 7,
   "id": "43499af5",
   "metadata": {},
   "outputs": [
    {
     "name": "stdout",
     "output_type": "stream",
     "text": [
      "Selected features: ['bmi', 'bp', 's1', 's2', 's5']\n"
     ]
    }
   ],
   "source": [
    "#3.\n",
    "from sklearn.datasets import load_diabetes\n",
    "from sklearn.linear_model import LinearRegression\n",
    "from sklearn.feature_selection import RFE\n",
    "import pandas as pd\n",
    "\n",
    "# Load dataset\n",
    "X, y = load_diabetes(return_X_y=True, as_frame=True)\n",
    "\n",
    "# Define model\n",
    "model = LinearRegression()\n",
    "\n",
    "# Perform RFE, selecting top 5 features\n",
    "rfe = RFE(model, n_features_to_select=5)\n",
    "rfe.fit(X, y)\n",
    "\n",
    "# Get selected features\n",
    "selected_features = X.columns[rfe.support_].tolist()\n",
    "print(\"Selected features:\", selected_features)"
   ]
  },
  {
   "cell_type": "code",
   "execution_count": 8,
   "id": "4537a4e5",
   "metadata": {},
   "outputs": [
    {
     "name": "stdout",
     "output_type": "stream",
     "text": [
      "Top 8 features using mutual info: ['pixel_2_5', 'pixel_3_2', 'pixel_3_6', 'pixel_4_1', 'pixel_4_2', 'pixel_5_2', 'pixel_5_3', 'pixel_6_6']\n"
     ]
    }
   ],
   "source": [
    "#4.\n",
    "from sklearn.datasets import load_digits\n",
    "from sklearn.feature_selection import SelectKBest, mutual_info_classif\n",
    "import pandas as pd\n",
    "\n",
    "# Load dataset\n",
    "X, y = load_digits(return_X_y=True, as_frame=True)\n",
    "\n",
    "# Apply SelectKBest with mutual_info_classif\n",
    "selector = SelectKBest(mutual_info_classif, k=8)\n",
    "X_new = selector.fit_transform(X, y)\n",
    "\n",
    "# Get selected feature names\n",
    "selected_features = X.columns[selector.get_support()].tolist()\n",
    "\n",
    "print(\"Top 8 features using mutual info:\", selected_features)\n"
   ]
  },
  {
   "cell_type": "code",
   "execution_count": 9,
   "id": "ff2f6934",
   "metadata": {},
   "outputs": [
    {
     "name": "stdout",
     "output_type": "stream",
     "text": [
      "Selected features: ['mean radius', 'mean compactness', 'mean concavity', 'texture error', 'worst radius', 'worst compactness', 'worst concavity', 'worst concave points', 'worst symmetry']\n"
     ]
    }
   ],
   "source": [
    "#5.\n",
    "from sklearn.datasets import load_breast_cancer\n",
    "from sklearn.linear_model import LogisticRegression\n",
    "from sklearn.feature_selection import SelectFromModel\n",
    "import pandas as pd\n",
    "\n",
    "# Load dataset\n",
    "X, y = load_breast_cancer(return_X_y=True, as_frame=True)\n",
    "\n",
    "# Logistic Regression model\n",
    "model = LogisticRegression(max_iter=5000, solver='liblinear')\n",
    "\n",
    "# Feature selection using SelectFromModel\n",
    "selector = SelectFromModel(model)\n",
    "selector.fit(X, y)\n",
    "\n",
    "# Get selected features\n",
    "selected_features = X.columns[selector.get_support()].tolist()\n",
    "\n",
    "print(\"Selected features:\", selected_features)"
   ]
  },
  {
   "cell_type": "code",
   "execution_count": null,
   "id": "e4302975",
   "metadata": {},
   "outputs": [],
   "source": []
  },
  {
   "cell_type": "code",
   "execution_count": null,
   "id": "36051c7b",
   "metadata": {},
   "outputs": [],
   "source": []
  },
  {
   "cell_type": "code",
   "execution_count": null,
   "id": "ecba703b",
   "metadata": {},
   "outputs": [],
   "source": []
  }
 ],
 "metadata": {
  "kernelspec": {
   "display_name": "Python 3 (ipykernel)",
   "language": "python",
   "name": "python3"
  },
  "language_info": {
   "codemirror_mode": {
    "name": "ipython",
    "version": 3
   },
   "file_extension": ".py",
   "mimetype": "text/x-python",
   "name": "python",
   "nbconvert_exporter": "python",
   "pygments_lexer": "ipython3",
   "version": "3.9.23"
  }
 },
 "nbformat": 4,
 "nbformat_minor": 5
}
